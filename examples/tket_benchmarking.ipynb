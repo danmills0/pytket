{
 "cells": [
  {
   "cell_type": "markdown",
   "metadata": {},
   "source": [
    "# t|ket> benchmarking example\n"
   ]
  },
  {
   "cell_type": "markdown",
   "metadata": {},
   "source": [
    "Warning: This notebook is now deprecated for versions from 0.2.0 onwards, and is not going to be updated in ongoing releases.\n",
    "\n",
    "The aim of this example is to show how to run the IBM benchmarking circuits through t|ket>. You will need both `pytket` and `pytket_qiskit` installed from pip before running this turoial. You will also need `pandas` to capture the data.\n",
    "\n",
    "The benchmarking circuits originated from https://github.com/iic-jku/ibm_qx_mapping/tree/master/examples, but there is a copy in pytket in the \"benchmarking\" folder. The initial circuits are written in QASM, meaning that they must be converted to t|ket>'s internal representation via Qiskit. Using this script we will compile these circuits through t|ket> and then print a table to terminal containing analysis of the circuits post-compilation.\n",
    "\n",
    "First, begin by importing qiskit and pytket."
   ]
  },
  {
   "cell_type": "code",
   "execution_count": null,
   "metadata": {
    "scrolled": true
   },
   "outputs": [],
   "source": [
    "import qiskit\n",
    "import pytket"
   ]
  },
  {
   "cell_type": "markdown",
   "metadata": {},
   "source": [
    "We need access to Qiskit's `QuantumCircuit` and the `circuit_to_dag` converter, which will allow us to take the original QASM and retrieve a Qiskit DAGCircuit. There is then a pytket method `dagcircuit_to_tk` to convert this DAGCircuit to t|ket>'s internal representation. We also need the pytket method `coupling_to_arc` to convert IBM's architectures to the t|ket> `Architecture` class for the use of routing."
   ]
  },
  {
   "cell_type": "code",
   "execution_count": null,
   "metadata": {},
   "outputs": [],
   "source": [
    "from qiskit import QuantumCircuit\n",
    "from qiskit.converters import circuit_to_dag\n",
    "\n",
    "from pytket.qiskit import dagcircuit_to_tk, coupling_to_arc"
   ]
  },
  {
   "cell_type": "markdown",
   "metadata": {},
   "source": [
    "We need all of the required pytket equipment to allow us to perform clean-up transform passes, to route and to analyse the circuits. Lastly, we require the `pandas` module to hold our data, and \n",
    "`time` to benchmark compilation time per circuit."
   ]
  },
  {
   "cell_type": "code",
   "execution_count": null,
   "metadata": {},
   "outputs": [],
   "source": [
    "from pytket import Architecture, route\n",
    "from pytket import OpType, Transform\n",
    "import pandas\n",
    "import time"
   ]
  },
  {
   "cell_type": "markdown",
   "metadata": {},
   "source": [
    "The architectures used to benchmark for our routing paper were the IBMqx5 and IBMTokyo architectures. The architectures qx5 and Tokyo respectively are shown below (although the diagrams do not show the directedness of the coupling maps). These diagrams are from https://www.research.ibm.com/ibm-q/technology/devices/#ibmqx5. We will now define the coupling map representing both architectures. These will later be converted to directed graphs to be used by t|ket>.\n",
    "![alt text](IBMqx5Arc.png \"Title\")\n",
    "![alt text](IBMTokyoArc.png \"Title2\")"
   ]
  },
  {
   "cell_type": "code",
   "execution_count": null,
   "metadata": {},
   "outputs": [],
   "source": [
    "ibm_devices = {\n",
    "    \"ibmqx5\": {\"edges\": [(1, 0), (1, 2), (2, 3), (3, 4), \n",
    "    (3, 14), (5, 4), (6, 5), (6, 7), (6, 11), (7, 10), \n",
    "    (8, 7), (9, 8), (9, 10), (11, 10), (12, 5), (12, 11), \n",
    "    (12, 13), (13, 4), (13, 14), (15, 0), (15, 2), (15, 14)],\n",
    "    \"nodes\": 16},\n",
    "    \"ibmq_20_tokyo\": {\"edges\": [(0, 1), (0, 5), (1, 2), (1, 6), (1, 7), (2, 3), (2, 6),\n",
    "    (2, 7), (3, 4), (3, 8), (3, 9), (4, 8), (4, 9), (5, 6), (5, 10), (5, 11), (6, 7),\n",
    "    (6, 10), (6, 11), (7, 8), (7, 12), (7, 13), (8, 9), (8, 12), (8, 13), (9, 14), (10, 11),\n",
    "    (10, 15), (11, 12), (11, 16), (11, 17), (12, 13), (12, 16), (12, 17), (13, 14), (13, 18),\n",
    "    (13, 19), (14, 18), (14, 19), (15, 16), (16, 17), (17, 18), (18, 19)], \"nodes\": 20}\n",
    "}"
   ]
  },
  {
   "cell_type": "markdown",
   "metadata": {},
   "source": [
    "We shall now choose the device and create a directed graph for t|ket>'s routing to use."
   ]
  },
  {
   "cell_type": "code",
   "execution_count": null,
   "metadata": {},
   "outputs": [],
   "source": [
    "device_name = 'ibmqx5' #'ibm_20_tokyo' ###Note: can also be ran using the Tokyo machine architecture\n",
    "                                       ###      or with a user-defined coupling map\n",
    "coupling_map = ibm_devices[device_name][\"edges\"]\n",
    "directed_arc = coupling_to_arc(coupling_map)"
   ]
  },
  {
   "cell_type": "markdown",
   "metadata": {},
   "source": [
    "We now define a method which takes in (1) a QASM file and (2) a directed graph architecture; it returns analysis of the circuit after our transform passes and routing procedure have been completed. It will also print out to terminal the time taken for all the transformations and routing to finish."
   ]
  },
  {
   "cell_type": "code",
   "execution_count": null,
   "metadata": {},
   "outputs": [],
   "source": [
    "def getStats(filename, directed_arc):\n",
    "    qc = QuantumCircuit.from_qasm_file(filename)\n",
    "    dag = circuit_to_dag(qc)\n",
    "    tkcirc = dagcircuit_to_tk(dag)\n",
    "    start_time = time.process_time()\n",
    "    Transform.OptimisePhaseGadgets().apply(tkcirc)\n",
    "    outcirc = route(tkcirc, directed_arc)\n",
    "    # decompose swaps to CX gates and redirect CXs in wrong direction\n",
    "    outcirc.decompose_SWAP_to_CX()\n",
    "    outcirc.redirect_CX_gates(directed_arc)\n",
    "    Transform.OptimisePostRouting().apply(outcirc)\n",
    "    \n",
    "    time_elapsed = time.process_time() - start_time\n",
    "    \n",
    "    print(\"Compilation time for circuit \" + str(filename) + \": \" + str(time_elapsed) + \"s\")\n",
    "    if outcirc.n_gates==0:\n",
    "        return [0,0,0,0,0]\n",
    "    ###Returns: [number of vertices, circuit depth, nubmer of CX gates, number of parallel slices of CX gates]\n",
    "    return [outcirc.n_gates, outcirc.depth(), outcirc.n_gates_of_type(OpType.CX), \n",
    "            outcirc.depth_by_type(OpType.CX), time_elapsed]\n",
    "    ###Note: the raw number of vertices in the circuits and the raw depth \n",
    "    ###      need to have the i/o vertices removed for fair comparisons"
   ]
  },
  {
   "cell_type": "markdown",
   "metadata": {},
   "source": [
    "Lastly, we generate the table of input QASM filenames from a csv file using `pandas` and run the circuits through our compiler. The results are printed to terminal by default."
   ]
  },
  {
   "cell_type": "code",
   "execution_count": null,
   "metadata": {},
   "outputs": [],
   "source": [
    "test_table = pandas.read_csv(\"benchmarking/IBMQConfig.csv\",index_col=0)\n",
    "test_table = test_table.sort_values(by='Depth in')\n",
    "\n",
    "stat_table = pandas.DataFrame({})\n",
    "total_time = 0\n",
    "\n",
    "for i, (index, row) in enumerate(test_table.iterrows()):\n",
    "    filename = row['Filename']\n",
    "    new_stats = getStats(filename, directed_arc)\n",
    "    total_time += new_stats[4] ###\n",
    "    print(\"Time spent compiling so far: \" + str(total_time))\n",
    "    new_table_row = pandas.DataFrame.from_dict({index : new_stats}, \n",
    "    orient='index', columns=['Size out', 'Depth out', 'CX count out', 'CX depth out','Runtime'])\n",
    "    stat_table = stat_table.append(new_table_row)\n",
    "\n",
    "#stat_table.to_csv(\"BenchmarkTket.csv\") ###Note: uncomment this line to print table to csv.\n",
    "with pandas.option_context('display.max_rows', None):\n",
    "    print(stat_table)"
   ]
  }
 ],
 "metadata": {
  "kernelspec": {
   "display_name": "Python 3",
   "language": "python",
   "name": "python3"
  },
  "language_info": {
   "codemirror_mode": {
    "name": "ipython",
    "version": 3
   },
   "file_extension": ".py",
   "mimetype": "text/x-python",
   "name": "python",
   "nbconvert_exporter": "python",
   "pygments_lexer": "ipython3",
   "version": "3.7.2"
  }
 },
 "nbformat": 4,
 "nbformat_minor": 2
}
